{
 "cells": [
  {
   "cell_type": "markdown",
   "metadata": {},
   "source": [
    "## Subreddit Download Notebook\n",
    "\n",
    "This notebook contains code to download subreddits from http://files.pushshift.io/reddit/subreddits/"
   ]
  },
  {
   "cell_type": "code",
   "execution_count": 1,
   "metadata": {},
   "outputs": [],
   "source": [
    "from urllib import request\n",
    "from bs4 import BeautifulSoup\n",
    "import os\n",
    "from pathlib import Path\n",
    "import sys"
   ]
  },
  {
   "cell_type": "code",
   "execution_count": 2,
   "metadata": {},
   "outputs": [
    {
     "name": "stdout",
     "output_type": "stream",
     "text": [
      "project path = /home/guerramarj/github/clpsych\n",
      "data path = /home/guerramarj/github/clpsych/dataset\n",
      "\n",
      "sys.path = ['/home/guerramarj/python/Python-3.6.3', '/home/guerramarj/packages/anaconda3/envs/clpsych/lib/python36.zip', '/home/guerramarj/packages/anaconda3/envs/clpsych/lib/python3.6', '/home/guerramarj/packages/anaconda3/envs/clpsych/lib/python3.6/lib-dynload', '', '/home/guerramarj/packages/anaconda3/envs/clpsych/lib/python3.6/site-packages', '/home/guerramarj/packages/anaconda3/envs/clpsych/lib/python3.6/site-packages/Mako-1.0.7-py3.6.egg', '/home/guerramarj/packages/anaconda3/envs/clpsych/lib/python3.6/site-packages/IPython/extensions', '/home/guerramarj/.ipython', '/home/guerramarj/github/clpsych', '/home/guerramarj/github/clpsych/utils']\n"
     ]
    }
   ],
   "source": [
    "project_name = 'clpsych'\n",
    "project_path = Path(os.getcwd()).parent\n",
    "\n",
    "if sys.platform == \"win32\":\n",
    "    data_path = 'D:\\Dataset\\{0}\\dataset'.format(project_name)\n",
    "elif sys.platform == 'darwin':\n",
    "    data_path = '/Volumes/Dataset/{0}/dataset'.format(project_name)\n",
    "else:\n",
    "    data_path = Path(project_path, 'dataset')\n",
    "\n",
    "utils_path = str(Path(project_path, 'utils'))\n",
    "# including the project folder and the utils folder\n",
    "if utils_path not in ''.join(sys.path):\n",
    "    sys.path.extend([str(project_path), utils_path])\n",
    "\n",
    "print('project path = {0}'.format(project_path))\n",
    "print('data path = {0}'.format(data_path))\n",
    "print('')\n",
    "print('sys.path = {0}'.format(sys.path))"
   ]
  },
  {
   "cell_type": "code",
   "execution_count": 3,
   "metadata": {},
   "outputs": [
    {
     "data": {
      "text/plain": [
       "<!DOCTYPE doctype html>\n",
       "\n",
       "<html>\n",
       "<head>\n",
       "<meta charset=\"utf-8\"/>\n",
       "<title>Directory Contents</title>\n",
       "<link href=\".style.css\" rel=\"stylesheet\"/>\n",
       "<script src=\".sorttable.js\"></script>\n",
       "</head>\n",
       "<body>\n",
       "<div id=\"container\">\n",
       "<h1>Directory Contents</h1>\n",
       "<div style=\"padding-top:40px;padding-bottom:40px;width: 40%; margin: 0 auto;font-size:1.4em\">\n",
       "<p>\n",
       "    Please consider making a donation (<a href=\"https://pushshift.io/donations/\">https://pushshift.io/donations</a>) if you download a lot of data.  This helps offset the costs of my time collecting data and providing bandwidth to make these files available to the public.  Thank you!\n",
       "    </p>\n",
       "</div></div></body></html>\n",
       "<p>\n",
       "    If you have any questions about the data formats of the files or any other questions, please feel free to contact me at jason@pushshift.io.\n",
       "    </p>\n",
       "\n",
       "<table class=\"sortable\">\n",
       "<thead>\n",
       "<tr>\n",
       "<th>Filename</th>\n",
       "<th>Type</th>\n",
       "<th>Size <small>(bytes)</small></th>\n",
       "<th>Date Modified</th>\n",
       "</tr>\n",
       "</thead>\n",
       "<tbody>\n",
       "<tr class=\"file\">\n",
       "<td><a href=\"./Reddit_Subreddits.ndjson.zst\">Reddit_Subreddits.ndjson.zst</a></td>\n",
       "<td><a href=\"./Reddit_Subreddits.ndjson.zst\">REDDIT_SUBREDDITS.NDJSON.ZST File</a></td>\n",
       "<td><a href=\"./Reddit_Subreddits.ndjson.zst\">1,973,875,352</a></td>\n",
       "<td sorttable_customkey=\"20190212125627\"><a href=\"./Reddit_Subreddits.ndjson.zst\">Feb 12 2019 12:56 PM</a></td>\n",
       "</tr>\n",
       "<tr class=\"file\">\n",
       "<td><a href=\"./subreddits.json.gz\">subreddits.json.gz</a></td>\n",
       "<td><a href=\"./subreddits.json.gz\">SUBREDDITS.JSON.GZ File</a></td>\n",
       "<td><a href=\"./subreddits.json.gz\">1,693,284,633</a></td>\n",
       "<td sorttable_customkey=\"20180511152337\"><a href=\"./subreddits.json.gz\">May 11 2018 3:23 PM</a></td>\n",
       "</tr>\n",
       "<tr class=\"file\">\n",
       "<td><a href=\"./subreddits_basic.csv\">subreddits_basic.csv</a></td>\n",
       "<td><a href=\"./subreddits_basic.csv\">SUBREDDITS_BASIC.CSV File</a></td>\n",
       "<td><a href=\"./subreddits_basic.csv\">46,521,097</a></td>\n",
       "<td sorttable_customkey=\"20180511204559\"><a href=\"./subreddits_basic.csv\">May 11 2018 8:45 PM</a></td>\n",
       "</tr>\n",
       "<tr class=\"file\">\n",
       "<td><a href=\"./subreddits_basic.meta\">subreddits_basic.meta</a></td>\n",
       "<td><a href=\"./subreddits_basic.meta\">SUBREDDITS_BASIC.META File</a></td>\n",
       "<td><a href=\"./subreddits_basic.meta\">84</a></td>\n",
       "<td sorttable_customkey=\"20180511204828\"><a href=\"./subreddits_basic.meta\">May 11 2018 8:48 PM</a></td>\n",
       "</tr> </tbody>\n",
       "</table>\n",
       "\n",
       "\n"
      ]
     },
     "execution_count": 3,
     "metadata": {},
     "output_type": "execute_result"
    }
   ],
   "source": [
    "url = 'http://files.pushshift.io/reddit/subreddits/'\n",
    "# query the website and return the html to the variable ‘page’\n",
    "page = request.urlopen(url)\n",
    "soup = BeautifulSoup(page, 'html.parser')\n",
    "soup"
   ]
  },
  {
   "cell_type": "code",
   "execution_count": 4,
   "metadata": {},
   "outputs": [
    {
     "data": {
      "text/plain": [
       "[<td><a href=\"./Reddit_Subreddits.ndjson.zst\">Reddit_Subreddits.ndjson.zst</a></td>,\n",
       " <td><a href=\"./Reddit_Subreddits.ndjson.zst\">REDDIT_SUBREDDITS.NDJSON.ZST File</a></td>,\n",
       " <td><a href=\"./Reddit_Subreddits.ndjson.zst\">1,973,875,352</a></td>,\n",
       " <td sorttable_customkey=\"20190212125627\"><a href=\"./Reddit_Subreddits.ndjson.zst\">Feb 12 2019 12:56 PM</a></td>,\n",
       " <td><a href=\"./subreddits.json.gz\">subreddits.json.gz</a></td>,\n",
       " <td><a href=\"./subreddits.json.gz\">SUBREDDITS.JSON.GZ File</a></td>,\n",
       " <td><a href=\"./subreddits.json.gz\">1,693,284,633</a></td>,\n",
       " <td sorttable_customkey=\"20180511152337\"><a href=\"./subreddits.json.gz\">May 11 2018 3:23 PM</a></td>,\n",
       " <td><a href=\"./subreddits_basic.csv\">subreddits_basic.csv</a></td>,\n",
       " <td><a href=\"./subreddits_basic.csv\">SUBREDDITS_BASIC.CSV File</a></td>,\n",
       " <td><a href=\"./subreddits_basic.csv\">46,521,097</a></td>,\n",
       " <td sorttable_customkey=\"20180511204559\"><a href=\"./subreddits_basic.csv\">May 11 2018 8:45 PM</a></td>,\n",
       " <td><a href=\"./subreddits_basic.meta\">subreddits_basic.meta</a></td>,\n",
       " <td><a href=\"./subreddits_basic.meta\">SUBREDDITS_BASIC.META File</a></td>,\n",
       " <td><a href=\"./subreddits_basic.meta\">84</a></td>,\n",
       " <td sorttable_customkey=\"20180511204828\"><a href=\"./subreddits_basic.meta\">May 11 2018 8:48 PM</a></td>]"
      ]
     },
     "execution_count": 4,
     "metadata": {},
     "output_type": "execute_result"
    }
   ],
   "source": [
    "soup.find_all('td')"
   ]
  },
  {
   "cell_type": "code",
   "execution_count": 5,
   "metadata": {},
   "outputs": [
    {
     "name": "stdout",
     "output_type": "stream",
     "text": [
      "file Reddit_Subreddits.ndjson.zst store in /home/guerramarj/github/clpsych/dataset/Reddit_Subreddits.ndjson.zst\n",
      "file subreddits.json.gz store in /home/guerramarj/github/clpsych/dataset/subreddits.json.gz\n",
      "file subreddits_basic.csv store in /home/guerramarj/github/clpsych/dataset/subreddits_basic.csv\n",
      "file subreddits_basic.meta store in /home/guerramarj/github/clpsych/dataset/subreddits_basic.meta\n"
     ]
    }
   ],
   "source": [
    "file_list = list()\n",
    "\n",
    "for element in soup.find_all('td'):\n",
    "    file_name = element.a['href'].replace('./', '')\n",
    "    if file_name not in file_list:\n",
    "        file_list.append(file_name)\n",
    "        link_address = url + file_name\n",
    "        download_filepath = Path(data_path, file_name)\n",
    "        request.urlretrieve(link_address, download_filepath)  \n",
    "        print('file {0} store in {1}'.format(file_name, download_filepath))"
   ]
  },
  {
   "cell_type": "code",
   "execution_count": null,
   "metadata": {},
   "outputs": [],
   "source": []
  }
 ],
 "metadata": {
  "kernelspec": {
   "display_name": "clpsych",
   "language": "python",
   "name": "clpsych"
  },
  "language_info": {
   "codemirror_mode": {
    "name": "ipython",
    "version": 3
   },
   "file_extension": ".py",
   "mimetype": "text/x-python",
   "name": "python",
   "nbconvert_exporter": "python",
   "pygments_lexer": "ipython3",
   "version": "3.6.7"
  }
 },
 "nbformat": 4,
 "nbformat_minor": 2
}
