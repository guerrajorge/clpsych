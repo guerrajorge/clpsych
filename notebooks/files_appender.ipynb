{
 "cells": [
  {
   "cell_type": "markdown",
   "metadata": {},
   "source": [
    "Notebook with code use to normalize the filtered subreddit comments"
   ]
  },
  {
   "cell_type": "code",
   "execution_count": null,
   "metadata": {},
   "outputs": [],
   "source": [
    "import pandas as pd\n",
    "import csv\n",
    "import re\n",
    "import os\n",
    "from pathlib import Path\n",
    "import sys\n",
    "import numpy as np\n",
    "from datetime import datetime"
   ]
  },
  {
   "cell_type": "code",
   "execution_count": null,
   "metadata": {},
   "outputs": [],
   "source": [
    "project_name = 'clpsych'\n",
    "project_path = Path(os.getcwd()).parent\n",
    "\n",
    "if sys.platform == \"win32\":\n",
    "    data_path = 'D:\\Dataset\\{0}\\dataset'.format(project_name)\n",
    "elif sys.platform == 'darwin':\n",
    "    data_path = '/Volumes/Dataset/{0}/dataset'.format(project_name)\n",
    "else:\n",
    "    data_path = Path(project_path, 'dataset')\n",
    "\n",
    "utils_path = str(Path(project_path, 'utils'))\n",
    "# including the project folder and the utils folder\n",
    "if utils_path not in ''.join(sys.path):\n",
    "    sys.path.extend([str(project_path), utils_path])\n",
    "\n",
    "print('project path = {0}'.format(project_path))\n",
    "print('data path = {0}'.format(data_path))\n",
    "print('')\n",
    "print('sys.path = {0}'.format(sys.path))"
   ]
  },
  {
   "cell_type": "code",
   "execution_count": null,
   "metadata": {},
   "outputs": [],
   "source": [
    "rs_path = Path(data_path, 'submissions')\n",
    "# get all the json files and their stem\n",
    "need_processing = [element.replace('_norm.csv', '') for element in os.listdir(rs_path) if 'norm.csv' in element]\n",
    "\n",
    "for file in need_processing:\n",
    "    print('file = {0}'.format(file))\n",
    "    file1name = file + '.csv'\n",
    "    file1 = Path(rs_path, file1name)\n",
    "    print('\\t reading - {0}'.format(file1)) \n",
    "    data1 = pd.read_csv(file1)\n",
    "    \n",
    "    file2name = file + '_norm.csv'\n",
    "    file2 = Path(rs_path, file2name)\n",
    "    print('\\t reading - {0}'.format(file2)) \n",
    "    data2 = pd.read_csv(file2)\n",
    "    \n",
    "    data2['subreddit'] = data1['subreddit']\n",
    "    print('storing results in {0}'.format(file2name))\n",
    "    data2.to_csv(file2, index=False)\n",
    "    \n",
    "    stats = data2.groupby('subreddit').count()\n",
    "    stats['total posts'] = ''\n",
    "    stats['total posts'].iloc[0] = data1.shape[0]\n",
    "    \n",
    "    stats.to_csv(Path(rs_path, 'stats.csv')"
   ]
  }
 ],
 "metadata": {
  "kernelspec": {
   "display_name": "Python 3",
   "language": "python",
   "name": "python3"
  },
  "language_info": {
   "codemirror_mode": {
    "name": "ipython",
    "version": 3
   },
   "file_extension": ".py",
   "mimetype": "text/x-python",
   "name": "python",
   "nbconvert_exporter": "python",
   "pygments_lexer": "ipython3",
   "version": "3.6.6"
  }
 },
 "nbformat": 4,
 "nbformat_minor": 2
}
