{
 "cells": [
  {
   "cell_type": "markdown",
   "metadata": {},
   "source": [
    "Notebook with code use to normalize the filtered subreddit comments"
   ]
  },
  {
   "cell_type": "code",
   "execution_count": null,
   "metadata": {},
   "outputs": [],
   "source": [
    "import pandas as pd\n",
    "import csv\n",
    "import re\n",
    "import os\n",
    "from pathlib import Path\n",
    "import sys\n",
    "import numpy as np\n",
    "from datetime import datetime"
   ]
  },
  {
   "cell_type": "code",
   "execution_count": null,
   "metadata": {},
   "outputs": [],
   "source": [
    "project_name = 'clpsych'\n",
    "project_path = Path(os.getcwd()).parent\n",
    "\n",
    "if sys.platform == \"win32\":\n",
    "    data_path = 'D:\\Dataset\\{0}\\dataset'.format(project_name)\n",
    "elif sys.platform == 'darwin':\n",
    "    data_path = '/Volumes/Dataset/{0}/dataset'.format(project_name)\n",
    "else:\n",
    "    data_path = Path(project_path, 'dataset')\n",
    "\n",
    "utils_path = str(Path(project_path, 'utils'))\n",
    "# including the project folder and the utils folder\n",
    "if utils_path not in ''.join(sys.path):\n",
    "    sys.path.extend([str(project_path), utils_path])\n",
    "\n",
    "print('project path = {0}'.format(project_path))\n",
    "print('data path = {0}'.format(data_path))\n",
    "print('')\n",
    "print('sys.path = {0}'.format(sys.path))"
   ]
  },
  {
   "cell_type": "code",
   "execution_count": null,
   "metadata": {},
   "outputs": [],
   "source": [
    "rs_path = Path(data_path, 'submissions')\n",
    "\n",
    "data_norm_files = Path(rs_path, 'dataset_normalized_files.txt')\n",
    "\n",
    "files_dataset = list()\n",
    "if data_norm_files.exists():\n",
    "    # list of file that have been added tothe dataset_normalized file\n",
    "    with data_norm_files.open('r') as in_file:\n",
    "        for row in in_file:\n",
    "            files_dataset.append(row.replace('\\n', ''))\n",
    "\n",
    "dataset = ''\n",
    "fist = True\n",
    "\n",
    "for file in rs_path.iterdir():\n",
    "    if '_norm.csv' in file.name and file.name not in files_dataset:\n",
    "        print('file = {0}'.format(file.stem))\n",
    "        print('\\t reading - {0}'.format( datetime.now()))\n",
    "        data = pd.read_csv(file)\n",
    "        data.dropna(axis=0, inplace=True)\n",
    "        if first:\n",
    "            dataset = data.copy()\n",
    "            first = False\n",
    "        else:\n",
    "            dataset = dataset.append(data1, ignore_index=True)\n",
    "        files_dataset.append(file.name)\n",
    "        \n",
    "dataset.to_csv(Path(rs_path, 'dataset_normalized.csv'), index=False)\n",
    "\n",
    "# list of file that have been added tothe dataset_normalized file\n",
    "with data_norm_files.open('a') as out_file:\n",
    "    for file_name in files_dataset:\n",
    "        out_file.write('{0}\\n'.format(file_name))     "
   ]
  }
 ],
 "metadata": {
  "kernelspec": {
   "display_name": "Python 3",
   "language": "python",
   "name": "python3"
  },
  "language_info": {
   "codemirror_mode": {
    "name": "ipython",
    "version": 3
   },
   "file_extension": ".py",
   "mimetype": "text/x-python",
   "name": "python",
   "nbconvert_exporter": "python",
   "pygments_lexer": "ipython3",
   "version": "3.6.5"
  }
 },
 "nbformat": 4,
 "nbformat_minor": 2
}
