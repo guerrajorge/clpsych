{
 "cells": [
  {
   "cell_type": "code",
   "execution_count": 1,
   "metadata": {},
   "outputs": [],
   "source": [
    "import pandas as pd\n",
    "import os\n",
    "from pathlib import Path\n",
    "import sys\n",
    "import pandas as pd\n",
    "from datetime import datetime"
   ]
  },
  {
   "cell_type": "code",
   "execution_count": 2,
   "metadata": {},
   "outputs": [
    {
     "name": "stdout",
     "output_type": "stream",
     "text": [
      "project path = /home/guerramarj/github/clpsych\n",
      "data path = /home/guerramarj/github/clpsych/dataset\n",
      "\n",
      "sys.path = ['/cm/local/apps/cuda/libs/current/pynvml', '/home/guerramarj/python/Python-3.6.3', '/home/guerramarj/packages/anaconda3/envs/deeplearning/lib/python36.zip', '/home/guerramarj/packages/anaconda3/envs/deeplearning/lib/python3.6', '/home/guerramarj/packages/anaconda3/envs/deeplearning/lib/python3.6/lib-dynload', '', '/home/guerramarj/packages/anaconda3/envs/deeplearning/lib/python3.6/site-packages', '/home/guerramarj/packages/anaconda3/envs/deeplearning/lib/python3.6/site-packages/Mako-1.0.7-py3.6.egg', '/home/guerramarj/packages/anaconda3/envs/deeplearning/lib/python3.6/site-packages/IPython/extensions', '/home/guerramarj/.ipython', '/home/guerramarj/github/clpsych', '/home/guerramarj/github/clpsych/utils']\n"
     ]
    }
   ],
   "source": [
    "project_name = 'clpsych'\n",
    "project_path = Path(os.getcwd()).parent\n",
    "\n",
    "if sys.platform == \"win32\":\n",
    "    data_path = 'D:\\Dataset\\{0}\\dataset'.format(project_name)\n",
    "elif sys.platform == 'darwin':\n",
    "    data_path = '/Volumes/Dataset/{0}/dataset'.format(project_name)\n",
    "else:\n",
    "    data_path = Path(project_path, 'dataset')\n",
    "\n",
    "utils_path = str(Path(project_path, 'utils'))\n",
    "# including the project folder and the utils folder\n",
    "if utils_path not in ''.join(sys.path):\n",
    "    sys.path.extend([str(project_path), utils_path])\n",
    "\n",
    "print('project path = {0}'.format(project_path))\n",
    "print('data path = {0}'.format(data_path))\n",
    "print('')\n",
    "print('sys.path = {0}'.format(sys.path))"
   ]
  },
  {
   "cell_type": "code",
   "execution_count": 3,
   "metadata": {},
   "outputs": [
    {
     "name": "stdout",
     "output_type": "stream",
     "text": [
      "(57015, 3)\n"
     ]
    },
    {
     "data": {
      "text/html": [
       "<div>\n",
       "<style scoped>\n",
       "    .dataframe tbody tr th:only-of-type {\n",
       "        vertical-align: middle;\n",
       "    }\n",
       "\n",
       "    .dataframe tbody tr th {\n",
       "        vertical-align: top;\n",
       "    }\n",
       "\n",
       "    .dataframe thead th {\n",
       "        text-align: right;\n",
       "    }\n",
       "</style>\n",
       "<table border=\"1\" class=\"dataframe\">\n",
       "  <thead>\n",
       "    <tr style=\"text-align: right;\">\n",
       "      <th></th>\n",
       "      <th>post_id</th>\n",
       "      <th>user_id</th>\n",
       "      <th>subreddits</th>\n",
       "    </tr>\n",
       "  </thead>\n",
       "  <tbody>\n",
       "    <tr>\n",
       "      <th>0</th>\n",
       "      <td>sodud</td>\n",
       "      <td>40130</td>\n",
       "      <td>ainbow</td>\n",
       "    </tr>\n",
       "    <tr>\n",
       "      <th>1</th>\n",
       "      <td>soegj</td>\n",
       "      <td>40130</td>\n",
       "      <td>LGBTrees</td>\n",
       "    </tr>\n",
       "    <tr>\n",
       "      <th>2</th>\n",
       "      <td>t1efg</td>\n",
       "      <td>40130</td>\n",
       "      <td>CuteGayPics</td>\n",
       "    </tr>\n",
       "    <tr>\n",
       "      <th>3</th>\n",
       "      <td>tprco</td>\n",
       "      <td>40130</td>\n",
       "      <td>CuteGayPics</td>\n",
       "    </tr>\n",
       "    <tr>\n",
       "      <th>4</th>\n",
       "      <td>ttak5</td>\n",
       "      <td>40130</td>\n",
       "      <td>ainbow</td>\n",
       "    </tr>\n",
       "  </tbody>\n",
       "</table>\n",
       "</div>"
      ],
      "text/plain": [
       "  post_id  user_id   subreddits\n",
       "0   sodud    40130       ainbow\n",
       "1   soegj    40130     LGBTrees\n",
       "2   t1efg    40130  CuteGayPics\n",
       "3   tprco    40130  CuteGayPics\n",
       "4   ttak5    40130       ainbow"
      ]
     },
     "execution_count": 3,
     "metadata": {},
     "output_type": "execute_result"
    }
   ],
   "source": [
    "# read in task_B_train csv file\n",
    "filename = 'clpsych19_public_task_B_train_posts.csv'\n",
    "task_b_train = pd.read_csv(Path(data_path, filename), header=None, names=['post_id', 'user_id', 'subreddits'])\n",
    "print(task_b_train.shape)\n",
    "task_b_train.head()"
   ]
  },
  {
   "cell_type": "code",
   "execution_count": 4,
   "metadata": {},
   "outputs": [
    {
     "name": "stdout",
     "output_type": "stream",
     "text": [
      "(993, 2)\n"
     ]
    },
    {
     "data": {
      "text/html": [
       "<div>\n",
       "<style scoped>\n",
       "    .dataframe tbody tr th:only-of-type {\n",
       "        vertical-align: middle;\n",
       "    }\n",
       "\n",
       "    .dataframe tbody tr th {\n",
       "        vertical-align: top;\n",
       "    }\n",
       "\n",
       "    .dataframe thead th {\n",
       "        text-align: right;\n",
       "    }\n",
       "</style>\n",
       "<table border=\"1\" class=\"dataframe\">\n",
       "  <thead>\n",
       "    <tr style=\"text-align: right;\">\n",
       "      <th></th>\n",
       "      <th>user_id</th>\n",
       "      <th>risk_label</th>\n",
       "    </tr>\n",
       "  </thead>\n",
       "  <tbody>\n",
       "    <tr>\n",
       "      <th>0</th>\n",
       "      <td>40130</td>\n",
       "      <td>a</td>\n",
       "    </tr>\n",
       "    <tr>\n",
       "      <th>1</th>\n",
       "      <td>19368</td>\n",
       "      <td>a</td>\n",
       "    </tr>\n",
       "    <tr>\n",
       "      <th>2</th>\n",
       "      <td>20841</td>\n",
       "      <td>a</td>\n",
       "    </tr>\n",
       "    <tr>\n",
       "      <th>3</th>\n",
       "      <td>8720</td>\n",
       "      <td>a</td>\n",
       "    </tr>\n",
       "    <tr>\n",
       "      <th>4</th>\n",
       "      <td>32730</td>\n",
       "      <td>a</td>\n",
       "    </tr>\n",
       "  </tbody>\n",
       "</table>\n",
       "</div>"
      ],
      "text/plain": [
       "   user_id risk_label\n",
       "0    40130          a\n",
       "1    19368          a\n",
       "2    20841          a\n",
       "3     8720          a\n",
       "4    32730          a"
      ]
     },
     "execution_count": 4,
     "metadata": {},
     "output_type": "execute_result"
    }
   ],
   "source": [
    "# read in crowd_train csv file\n",
    "filename = 'clpsych19_public_crowd_train.csv'\n",
    "crowd_train = pd.read_csv(Path(data_path, filename), header=None, names=['user_id', 'risk_label'])\n",
    "print(crowd_train.shape)\n",
    "crowd_train.head()"
   ]
  },
  {
   "cell_type": "code",
   "execution_count": 5,
   "metadata": {},
   "outputs": [
    {
     "name": "stdout",
     "output_type": "stream",
     "text": [
      "(2038326, 6)\n"
     ]
    },
    {
     "data": {
      "text/html": [
       "<div>\n",
       "<style scoped>\n",
       "    .dataframe tbody tr th:only-of-type {\n",
       "        vertical-align: middle;\n",
       "    }\n",
       "\n",
       "    .dataframe tbody tr th {\n",
       "        vertical-align: top;\n",
       "    }\n",
       "\n",
       "    .dataframe thead th {\n",
       "        text-align: right;\n",
       "    }\n",
       "</style>\n",
       "<table border=\"1\" class=\"dataframe\">\n",
       "  <thead>\n",
       "    <tr style=\"text-align: right;\">\n",
       "      <th></th>\n",
       "      <th>post_id</th>\n",
       "      <th>user_id</th>\n",
       "      <th>timestamp</th>\n",
       "      <th>subreddits</th>\n",
       "      <th>post_title</th>\n",
       "      <th>post_body</th>\n",
       "    </tr>\n",
       "  </thead>\n",
       "  <tbody>\n",
       "    <tr>\n",
       "      <th>0</th>\n",
       "      <td>1ajmq1</td>\n",
       "      <td>22028</td>\n",
       "      <td>1363638028</td>\n",
       "      <td>IWantOut</td>\n",
       "      <td>I will be applying for a doctoral study progra...</td>\n",
       "      <td>I currently live in the US and work for NSF in...</td>\n",
       "    </tr>\n",
       "    <tr>\n",
       "      <th>1</th>\n",
       "      <td>1atmyh</td>\n",
       "      <td>22028</td>\n",
       "      <td>1363986645</td>\n",
       "      <td>malefashionadvice</td>\n",
       "      <td>What is your favorite suit/shoe color combo?</td>\n",
       "      <td>Personally I love a navy suit with walnut shoe...</td>\n",
       "    </tr>\n",
       "    <tr>\n",
       "      <th>2</th>\n",
       "      <td>1auzfq</td>\n",
       "      <td>22028</td>\n",
       "      <td>1364050617</td>\n",
       "      <td>Guitar</td>\n",
       "      <td>[GEAR] Looking to finally get an acoustic afte...</td>\n",
       "      <td>So I wrote up a long page about why I am getti...</td>\n",
       "    </tr>\n",
       "    <tr>\n",
       "      <th>3</th>\n",
       "      <td>1ba6xo</td>\n",
       "      <td>22028</td>\n",
       "      <td>1364611969</td>\n",
       "      <td>malefashionadvice</td>\n",
       "      <td>Anyone know where to find some american flag s...</td>\n",
       "      <td>7-9\" trunks, bold american flag print. Bonus p...</td>\n",
       "    </tr>\n",
       "    <tr>\n",
       "      <th>4</th>\n",
       "      <td>1bj3me</td>\n",
       "      <td>22028</td>\n",
       "      <td>1364926673</td>\n",
       "      <td>malefashionadvice</td>\n",
       "      <td>Wingtip fringe tassel loafers!?</td>\n",
       "      <td>_URL_~~60_57.JPGI don't know if I could pull t...</td>\n",
       "    </tr>\n",
       "  </tbody>\n",
       "</table>\n",
       "</div>"
      ],
      "text/plain": [
       "  post_id  user_id   timestamp         subreddits  \\\n",
       "0  1ajmq1    22028  1363638028           IWantOut   \n",
       "1  1atmyh    22028  1363986645  malefashionadvice   \n",
       "2  1auzfq    22028  1364050617             Guitar   \n",
       "3  1ba6xo    22028  1364611969  malefashionadvice   \n",
       "4  1bj3me    22028  1364926673  malefashionadvice   \n",
       "\n",
       "                                          post_title  \\\n",
       "0  I will be applying for a doctoral study progra...   \n",
       "1       What is your favorite suit/shoe color combo?   \n",
       "2  [GEAR] Looking to finally get an acoustic afte...   \n",
       "3  Anyone know where to find some american flag s...   \n",
       "4                    Wingtip fringe tassel loafers!?   \n",
       "\n",
       "                                           post_body  \n",
       "0  I currently live in the US and work for NSF in...  \n",
       "1  Personally I love a navy suit with walnut shoe...  \n",
       "2  So I wrote up a long page about why I am getti...  \n",
       "3  7-9\" trunks, bold american flag print. Bonus p...  \n",
       "4  _URL_~~60_57.JPGI don't know if I could pull t...  "
      ]
     },
     "execution_count": 5,
     "metadata": {},
     "output_type": "execute_result"
    }
   ],
   "source": [
    "# read in shared_task_posts csv file\n",
    "filename = 'clpsych19_public_shared_task_posts.csv'\n",
    "shared_task_posts = pd.read_csv(Path(data_path, filename), header=None, \n",
    "                                names=['post_id', 'user_id', 'timestamp', 'subreddits', 'post_title', 'post_body'])\n",
    "print(shared_task_posts.shape)\n",
    "shared_task_posts.head()"
   ]
  },
  {
   "cell_type": "code",
   "execution_count": 6,
   "metadata": {},
   "outputs": [],
   "source": [
    "# creating a new dataset based on the mergure of the different files\n",
    "dataset = task_b_train.copy()\n",
    "dataset = dataset.merge(right=crowd_train, on='user_id', how='inner')\n",
    "dataset = dataset.merge(right=shared_task_posts, on=['user_id', 'post_id'], how='inner')"
   ]
  },
  {
   "cell_type": "code",
   "execution_count": 7,
   "metadata": {},
   "outputs": [
    {
     "name": "stdout",
     "output_type": "stream",
     "text": [
      "Index(['post_id', 'user_id', 'subreddits'], dtype='object')\n",
      "Index(['user_id', 'risk_label'], dtype='object')\n",
      "Index(['post_id', 'user_id', 'timestamp', 'subreddits', 'post_title',\n",
      "       'post_body'],\n",
      "      dtype='object')\n",
      "Index(['post_id', 'user_id', 'subreddits_x', 'risk_label', 'timestamp',\n",
      "       'subreddits_y', 'post_title', 'post_body'],\n",
      "      dtype='object')\n"
     ]
    }
   ],
   "source": [
    "print(task_b_train.keys())\n",
    "print(crowd_train.keys())\n",
    "print(shared_task_posts.keys())\n",
    "print(dataset.keys())"
   ]
  },
  {
   "cell_type": "code",
   "execution_count": 8,
   "metadata": {},
   "outputs": [
    {
     "data": {
      "text/html": [
       "<div>\n",
       "<style scoped>\n",
       "    .dataframe tbody tr th:only-of-type {\n",
       "        vertical-align: middle;\n",
       "    }\n",
       "\n",
       "    .dataframe tbody tr th {\n",
       "        vertical-align: top;\n",
       "    }\n",
       "\n",
       "    .dataframe thead th {\n",
       "        text-align: right;\n",
       "    }\n",
       "</style>\n",
       "<table border=\"1\" class=\"dataframe\">\n",
       "  <thead>\n",
       "    <tr style=\"text-align: right;\">\n",
       "      <th></th>\n",
       "      <th>post_id</th>\n",
       "      <th>user_id</th>\n",
       "      <th>subreddits_x</th>\n",
       "      <th>risk_label</th>\n",
       "      <th>timestamp</th>\n",
       "      <th>subreddits_y</th>\n",
       "      <th>post_title</th>\n",
       "      <th>post_body</th>\n",
       "    </tr>\n",
       "  </thead>\n",
       "  <tbody>\n",
       "    <tr>\n",
       "      <th>0</th>\n",
       "      <td>sodud</td>\n",
       "      <td>40130</td>\n",
       "      <td>ainbow</td>\n",
       "      <td>a</td>\n",
       "      <td>1335199918</td>\n",
       "      <td>ainbow</td>\n",
       "      <td>My first spoken word gig, contains rhythmic Co...</td>\n",
       "      <td>Hey there guys ‘an gals,I’ve been lurking in a...</td>\n",
       "    </tr>\n",
       "    <tr>\n",
       "      <th>1</th>\n",
       "      <td>soegj</td>\n",
       "      <td>40130</td>\n",
       "      <td>LGBTrees</td>\n",
       "      <td>a</td>\n",
       "      <td>1335200695</td>\n",
       "      <td>LGBTrees</td>\n",
       "      <td>My first spoken word gig. Warning: contains rh...</td>\n",
       "      <td>Hey there guys ‘an gals,I’ve been lurking in a...</td>\n",
       "    </tr>\n",
       "    <tr>\n",
       "      <th>2</th>\n",
       "      <td>t1efg</td>\n",
       "      <td>40130</td>\n",
       "      <td>CuteGayPics</td>\n",
       "      <td>a</td>\n",
       "      <td>1335872964</td>\n",
       "      <td>CuteGayPics</td>\n",
       "      <td>Me, the boy who first showed me what love was ...</td>\n",
       "      <td>NaN</td>\n",
       "    </tr>\n",
       "    <tr>\n",
       "      <th>3</th>\n",
       "      <td>tprco</td>\n",
       "      <td>40130</td>\n",
       "      <td>CuteGayPics</td>\n",
       "      <td>a</td>\n",
       "      <td>1337163926</td>\n",
       "      <td>CuteGayPics</td>\n",
       "      <td>Being Proud @ NYC Pride 2010</td>\n",
       "      <td>NaN</td>\n",
       "    </tr>\n",
       "    <tr>\n",
       "      <th>4</th>\n",
       "      <td>ttak5</td>\n",
       "      <td>40130</td>\n",
       "      <td>ainbow</td>\n",
       "      <td>a</td>\n",
       "      <td>1337351222</td>\n",
       "      <td>ainbow</td>\n",
       "      <td>I wish this guy had been at my high school...</td>\n",
       "      <td>NaN</td>\n",
       "    </tr>\n",
       "  </tbody>\n",
       "</table>\n",
       "</div>"
      ],
      "text/plain": [
       "  post_id  user_id subreddits_x risk_label   timestamp subreddits_y  \\\n",
       "0   sodud    40130       ainbow          a  1335199918       ainbow   \n",
       "1   soegj    40130     LGBTrees          a  1335200695     LGBTrees   \n",
       "2   t1efg    40130  CuteGayPics          a  1335872964  CuteGayPics   \n",
       "3   tprco    40130  CuteGayPics          a  1337163926  CuteGayPics   \n",
       "4   ttak5    40130       ainbow          a  1337351222       ainbow   \n",
       "\n",
       "                                          post_title  \\\n",
       "0  My first spoken word gig, contains rhythmic Co...   \n",
       "1  My first spoken word gig. Warning: contains rh...   \n",
       "2  Me, the boy who first showed me what love was ...   \n",
       "3                       Being Proud @ NYC Pride 2010   \n",
       "4      I wish this guy had been at my high school...   \n",
       "\n",
       "                                           post_body  \n",
       "0  Hey there guys ‘an gals,I’ve been lurking in a...  \n",
       "1  Hey there guys ‘an gals,I’ve been lurking in a...  \n",
       "2                                                NaN  \n",
       "3                                                NaN  \n",
       "4                                                NaN  "
      ]
     },
     "execution_count": 8,
     "metadata": {},
     "output_type": "execute_result"
    }
   ],
   "source": [
    "dataset.head()"
   ]
  },
  {
   "cell_type": "code",
   "execution_count": null,
   "metadata": {},
   "outputs": [],
   "source": [
    "str(datetime.now()\n",
    "filename = 'dataset_{0}.csv'.format(datetime.now().strftime('%Y%m%d%H%M%S'))\n",
    "dataset.to_csv(Path(data_path, filename), index=False)\n",
    "print('dataset store in {0}'.format(filename))"
   ]
  },
  {
   "cell_type": "code",
   "execution_count": 11,
   "metadata": {},
   "outputs": [
    {
     "data": {
      "text/html": [
       "<div>\n",
       "<style scoped>\n",
       "    .dataframe tbody tr th:only-of-type {\n",
       "        vertical-align: middle;\n",
       "    }\n",
       "\n",
       "    .dataframe tbody tr th {\n",
       "        vertical-align: top;\n",
       "    }\n",
       "\n",
       "    .dataframe thead th {\n",
       "        text-align: right;\n",
       "    }\n",
       "</style>\n",
       "<table border=\"1\" class=\"dataframe\">\n",
       "  <thead>\n",
       "    <tr style=\"text-align: right;\">\n",
       "      <th></th>\n",
       "      <th>risk_label</th>\n",
       "      <th>title_body</th>\n",
       "    </tr>\n",
       "  </thead>\n",
       "  <tbody>\n",
       "    <tr>\n",
       "      <th>0</th>\n",
       "      <td>a</td>\n",
       "      <td>My first spoken word gig, contains rhythmic Co...</td>\n",
       "    </tr>\n",
       "    <tr>\n",
       "      <th>1</th>\n",
       "      <td>a</td>\n",
       "      <td>My first spoken word gig. Warning: contains rh...</td>\n",
       "    </tr>\n",
       "    <tr>\n",
       "      <th>2</th>\n",
       "      <td>a</td>\n",
       "      <td>Me, the boy who first showed me what love was ...</td>\n",
       "    </tr>\n",
       "    <tr>\n",
       "      <th>3</th>\n",
       "      <td>a</td>\n",
       "      <td>Being Proud @ NYC Pride 2010nan</td>\n",
       "    </tr>\n",
       "    <tr>\n",
       "      <th>4</th>\n",
       "      <td>a</td>\n",
       "      <td>I wish this guy had been at my high school...nan</td>\n",
       "    </tr>\n",
       "  </tbody>\n",
       "</table>\n",
       "</div>"
      ],
      "text/plain": [
       "  risk_label                                         title_body\n",
       "0          a  My first spoken word gig, contains rhythmic Co...\n",
       "1          a  My first spoken word gig. Warning: contains rh...\n",
       "2          a  Me, the boy who first showed me what love was ...\n",
       "3          a                    Being Proud @ NYC Pride 2010nan\n",
       "4          a   I wish this guy had been at my high school...nan"
      ]
     },
     "execution_count": 11,
     "metadata": {},
     "output_type": "execute_result"
    }
   ],
   "source": [
    "n_data = dataset[['risk_label']].copy()\n",
    "n_data['title_body'] = dataset['post_title'].astype(str) + dataset['post_body'].astype(str)\n",
    "n_data.head()"
   ]
  },
  {
   "cell_type": "code",
   "execution_count": 19,
   "metadata": {},
   "outputs": [
    {
     "name": "stdout",
     "output_type": "stream",
     "text": [
      "(57015, 2)\n",
      "(57015, 2)\n"
     ]
    }
   ],
   "source": [
    "print(n_data.shape)\n",
    "n_data.dropna(subset=['title_body'], inplace=True)\n",
    "print(n_data.shape)"
   ]
  },
  {
   "cell_type": "code",
   "execution_count": 21,
   "metadata": {},
   "outputs": [],
   "source": [
    "n_data.to_csv(Path(data_path, 'risk_title_body.csv'), index=False)"
   ]
  }
 ],
 "metadata": {
  "kernelspec": {
   "display_name": "deeplearning",
   "language": "python",
   "name": "deeplearning"
  },
  "language_info": {
   "codemirror_mode": {
    "name": "ipython",
    "version": 3
   },
   "file_extension": ".py",
   "mimetype": "text/x-python",
   "name": "python",
   "nbconvert_exporter": "python",
   "pygments_lexer": "ipython3",
   "version": "3.6.8"
  }
 },
 "nbformat": 4,
 "nbformat_minor": 2
}
